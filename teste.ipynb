{
 "cells": [
  {
   "cell_type": "code",
   "execution_count": 3,
   "metadata": {},
   "outputs": [
    {
     "name": "stdout",
     "output_type": "stream",
     "text": [
      "Recebeu do servidor: {\"message\": \"Hello, server!\"}\n"
     ]
    }
   ],
   "source": [
    "import asyncio\n",
    "import websockets\n",
    "import json\n",
    "\n",
    "async def test_websocket():\n",
    "    uri = \"ws://localhost:8001/ws/assistant/?api_key=chave_teste\"\n",
    "    async with websockets.connect(uri) as websocket:\n",
    "        message = {\"message\": \"Hello, server!\"}\n",
    "        await websocket.send(json.dumps(message))\n",
    "        response = await websocket.recv()\n",
    "        print(f\"Recebeu do servidor: {response}\")\n",
    "\n",
    "await test_websocket()\n"
   ]
  },
  {
   "cell_type": "code",
   "execution_count": 9,
   "metadata": {},
   "outputs": [
    {
     "name": "stdout",
     "output_type": "stream",
     "text": [
      "Resposta ao adicionar: {\"status\": \"item adicionado\"}\n",
      "Itens no carrinho: {\"cart\": [{\"comida__comida\": \"Sushi\", \"quantidade\": 1}]}\n",
      "Resposta ao remover: {\"status\": \"item removido\"}\n"
     ]
    }
   ],
   "source": [
    "import asyncio\n",
    "import websockets\n",
    "import json\n",
    "\n",
    "async def test_cart_consumer():\n",
    "    uri = \"ws://localhost:8001/ws/cart/?token=token_unico\"\n",
    "    async with websockets.connect(uri) as websocket:\n",
    "\n",
    "        comida_id = 10\n",
    "\n",
    "        add_message = {\n",
    "            \"action\": \"add\",\n",
    "            \"comida_id\": comida_id,\n",
    "            \"quantidade\": 2\n",
    "        }\n",
    "        await websocket.send(json.dumps(add_message))\n",
    "        response = await websocket.recv()\n",
    "        print(f\"Resposta ao adicionar: {response}\")\n",
    "\n",
    "        view_message = {\"action\": \"view\"}\n",
    "        await websocket.send(json.dumps(view_message))\n",
    "        response = await websocket.recv()\n",
    "        print(f\"Itens no carrinho: {response}\")\n",
    "\n",
    "        remove_message = {\n",
    "            \"action\": \"remove\",\n",
    "            \"comida_id\": comida_id\n",
    "        }\n",
    "        \n",
    "        await websocket.send(json.dumps(remove_message))\n",
    "        response = await websocket.recv()\n",
    "        print(f\"Resposta ao remover: {response}\")\n",
    "        await websocket.close()\n",
    "\n",
    "await test_cart_consumer()\n"
   ]
  }
 ],
 "metadata": {
  "kernelspec": {
   "display_name": "venv",
   "language": "python",
   "name": "python3"
  },
  "language_info": {
   "codemirror_mode": {
    "name": "ipython",
    "version": 3
   },
   "file_extension": ".py",
   "mimetype": "text/x-python",
   "name": "python",
   "nbconvert_exporter": "python",
   "pygments_lexer": "ipython3",
   "version": "3.11.5"
  }
 },
 "nbformat": 4,
 "nbformat_minor": 2
}
