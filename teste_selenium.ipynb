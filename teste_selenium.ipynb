{
 "cells": [
  {
   "cell_type": "code",
   "execution_count": 2,
   "metadata": {},
   "outputs": [],
   "source": [
    "import os\n",
    "import pathlib\n",
    "import urllib.request\n",
    "import zipfile\n",
    "\n",
    "def prepare_plugin(anti_captcha_api_key: str, proxy_settings: dict):\n",
    "    current_script_dir = os.getcwd()\n",
    "    modified_plugin_path = os.path.join(current_script_dir, 'plugin_hardcoded_api_key.zip')\n",
    "    plugin_extract_path = os.path.join(current_script_dir, 'extracted_plugin')\n",
    "\n",
    "    url = 'https://antcpt.com/anticaptcha-plugin.zip'\n",
    "    filehandle, _ = urllib.request.urlretrieve(url)\n",
    "\n",
    "    # Unpack it\n",
    "    with zipfile.ZipFile(filehandle, \"r\") as f:\n",
    "        f.extractall(path=plugin_extract_path)\n",
    "\n",
    "    config_path = os.path.join(plugin_extract_path, 'js', 'config_ac_api_key.js')\n",
    "    with open(config_path, 'r') as file:\n",
    "        config_content = file.read()\n",
    "    \n",
    "    config_content = config_content.replace(\"antiCapthaPredefinedApiKey = ''\", f\"antiCapthaPredefinedApiKey = '{anti_captcha_api_key}'\")\n",
    "    \n",
    "    # Add proxy settings\n",
    "    proxy_config = f\"\"\"\n",
    "    solveProxyOnTasks = true;\n",
    "    userProxyProtocol = '{proxy_settings[\"protocol\"]}';\n",
    "    userProxyServer = '{proxy_settings[\"server\"]}';\n",
    "    userProxyPort = {proxy_settings[\"port\"]};\n",
    "    userProxyLogin = '{proxy_settings[\"login\"]}';\n",
    "    userProxyPassword = '{proxy_settings[\"password\"]}';\"\"\"\n",
    "    \n",
    "    with open(config_path, 'w') as file:\n",
    "        file.write(config_content + proxy_config)\n",
    "\n",
    "    # Repack the plugin directory\n",
    "    zip_file = zipfile.ZipFile(modified_plugin_path, 'w', zipfile.ZIP_DEFLATED)\n",
    "    for root, dirs, files in os.walk(plugin_extract_path):\n",
    "        for file in files:\n",
    "            path = os.path.join(root, file)\n",
    "            zip_file.write(path, arcname=path.replace(plugin_extract_path, ''))\n",
    "    zip_file.close()\n",
    "\n",
    "    return modified_plugin_path\n"
   ]
  },
  {
   "cell_type": "code",
   "execution_count": 4,
   "metadata": {},
   "outputs": [],
   "source": [
    "from selenium import webdriver\n",
    "from selenium.webdriver.chrome.service import Service\n",
    "from selenium.webdriver.common.by import By\n",
    "\n",
    "\n",
    "def get_browser_with_plugin_ready(driver_path: str, api_key: str, proxy_settings: dict):\n",
    "    options = webdriver.ChromeOptions()\n",
    "    options.page_load_strategy = 'none'\n",
    "    \n",
    "    plugin_path = prepare_plugin(api_key, proxy_settings)\n",
    "    options.add_extension(plugin_path)\n",
    "    \n",
    "    return webdriver.Chrome(service=Service(driver_path), options=options)\n",
    "\n",
    "\n",
    "proxy_settings = {\n",
    "    \"protocol\": \"http\",\n",
    "    \"server\": \"15.229.77.235\",\n",
    "    \"port\": 80,\n",
    "    \"login\": \"\",\n",
    "    \"password\": \"\"\n",
    "}\n",
    "\n",
    "navegador = get_browser_with_plugin_ready(\n",
    "    driver_path='./chromedriver.exe',  \n",
    "    api_key='daa5bc4640585af447aa4b2c7dc98175',\n",
    "    proxy_settings=proxy_settings\n",
    ")\n",
    "\n",
    "navegador.get('https://chat.openai.com/')\n"
   ]
  },
  {
   "cell_type": "code",
   "execution_count": 6,
   "metadata": {},
   "outputs": [],
   "source": [
    "navegador.find_element(By.XPATH, '//*[@id=\"__next\"]/div[1]/div[2]/div[1]/div/div/button[1]').click()"
   ]
  }
 ],
 "metadata": {
  "kernelspec": {
   "display_name": "venv",
   "language": "python",
   "name": "python3"
  },
  "language_info": {
   "codemirror_mode": {
    "name": "ipython",
    "version": 3
   },
   "file_extension": ".py",
   "mimetype": "text/x-python",
   "name": "python",
   "nbconvert_exporter": "python",
   "pygments_lexer": "ipython3",
   "version": "3.11.5"
  }
 },
 "nbformat": 4,
 "nbformat_minor": 2
}
